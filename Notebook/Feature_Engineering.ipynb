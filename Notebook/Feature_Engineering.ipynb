{
 "cells": [
  {
   "cell_type": "code",
   "execution_count": 1,
   "metadata": {},
   "outputs": [],
   "source": [
    "import os\n",
    "import sys\n",
    "import numpy as np\n",
    "import csv\n",
    "import seaborn as sns\n",
    "import pandas as pd\n",
    "import matplotlib.pyplot as plt\n",
    "import pickle"
   ]
  },
  {
   "cell_type": "code",
   "execution_count": 2,
   "metadata": {},
   "outputs": [],
   "source": [
    "df_train = pd.read_pickle(\"./train_mr.pkl\")\n",
    "df_test = pd.read_pickle(\"./test_mr.pkl\")\n",
    "pd.set_option('display.max_columns', 500)"
   ]
  },
  {
   "cell_type": "code",
   "execution_count": 3,
   "metadata": {
    "scrolled": true
   },
   "outputs": [
    {
     "data": {
      "text/html": [
       "<div>\n",
       "<style scoped>\n",
       "    .dataframe tbody tr th:only-of-type {\n",
       "        vertical-align: middle;\n",
       "    }\n",
       "\n",
       "    .dataframe tbody tr th {\n",
       "        vertical-align: top;\n",
       "    }\n",
       "\n",
       "    .dataframe thead th {\n",
       "        text-align: right;\n",
       "    }\n",
       "</style>\n",
       "<table border=\"1\" class=\"dataframe\">\n",
       "  <thead>\n",
       "    <tr style=\"text-align: right;\">\n",
       "      <th></th>\n",
       "      <th>acquirer</th>\n",
       "      <th>bank</th>\n",
       "      <th>card</th>\n",
       "      <th>money</th>\n",
       "      <th>trade_cat</th>\n",
       "      <th>coin</th>\n",
       "      <th>online</th>\n",
       "      <th>trade_type</th>\n",
       "      <th>fallback</th>\n",
       "      <th>3ds</th>\n",
       "      <th>fraud_ind</th>\n",
       "      <th>pay_type</th>\n",
       "      <th>install</th>\n",
       "      <th>term</th>\n",
       "      <th>date</th>\n",
       "      <th>time</th>\n",
       "      <th>mcc</th>\n",
       "      <th>shop</th>\n",
       "      <th>excess</th>\n",
       "      <th>city</th>\n",
       "      <th>nation</th>\n",
       "      <th>status</th>\n",
       "      <th>key</th>\n",
       "    </tr>\n",
       "  </thead>\n",
       "  <tbody>\n",
       "    <tr>\n",
       "      <th>0</th>\n",
       "      <td>6716</td>\n",
       "      <td>12765</td>\n",
       "      <td>101514</td>\n",
       "      <td>966.580017</td>\n",
       "      <td>4</td>\n",
       "      <td>62</td>\n",
       "      <td>0</td>\n",
       "      <td>2</td>\n",
       "      <td>0.0</td>\n",
       "      <td>0.0</td>\n",
       "      <td>0</td>\n",
       "      <td>5</td>\n",
       "      <td>1</td>\n",
       "      <td>2</td>\n",
       "      <td>1</td>\n",
       "      <td>29.0</td>\n",
       "      <td>247</td>\n",
       "      <td>34949</td>\n",
       "      <td>0</td>\n",
       "      <td>5817</td>\n",
       "      <td>102</td>\n",
       "      <td>0</td>\n",
       "      <td>1119159</td>\n",
       "    </tr>\n",
       "    <tr>\n",
       "      <th>1</th>\n",
       "      <td>5575</td>\n",
       "      <td>34837</td>\n",
       "      <td>60869</td>\n",
       "      <td>1071.099976</td>\n",
       "      <td>5</td>\n",
       "      <td>62</td>\n",
       "      <td>1</td>\n",
       "      <td>8</td>\n",
       "      <td>0.0</td>\n",
       "      <td>0.0</td>\n",
       "      <td>0</td>\n",
       "      <td>5</td>\n",
       "      <td>0</td>\n",
       "      <td>0</td>\n",
       "      <td>1</td>\n",
       "      <td>40.0</td>\n",
       "      <td>203</td>\n",
       "      <td>33794</td>\n",
       "      <td>0</td>\n",
       "      <td>2138</td>\n",
       "      <td>44</td>\n",
       "      <td>0</td>\n",
       "      <td>641444</td>\n",
       "    </tr>\n",
       "    <tr>\n",
       "      <th>2</th>\n",
       "      <td>6769</td>\n",
       "      <td>22630</td>\n",
       "      <td>110573</td>\n",
       "      <td>438.209991</td>\n",
       "      <td>5</td>\n",
       "      <td>62</td>\n",
       "      <td>0</td>\n",
       "      <td>5</td>\n",
       "      <td>0.0</td>\n",
       "      <td>0.0</td>\n",
       "      <td>0</td>\n",
       "      <td>5</td>\n",
       "      <td>0</td>\n",
       "      <td>0</td>\n",
       "      <td>1</td>\n",
       "      <td>45.0</td>\n",
       "      <td>251</td>\n",
       "      <td>79257</td>\n",
       "      <td>0</td>\n",
       "      <td>3588</td>\n",
       "      <td>102</td>\n",
       "      <td>0</td>\n",
       "      <td>188670</td>\n",
       "    </tr>\n",
       "    <tr>\n",
       "      <th>3</th>\n",
       "      <td>6767</td>\n",
       "      <td>91588</td>\n",
       "      <td>208961</td>\n",
       "      <td>1174.170044</td>\n",
       "      <td>5</td>\n",
       "      <td>62</td>\n",
       "      <td>0</td>\n",
       "      <td>5</td>\n",
       "      <td>0.0</td>\n",
       "      <td>0.0</td>\n",
       "      <td>0</td>\n",
       "      <td>5</td>\n",
       "      <td>0</td>\n",
       "      <td>0</td>\n",
       "      <td>1</td>\n",
       "      <td>48.0</td>\n",
       "      <td>293</td>\n",
       "      <td>14765</td>\n",
       "      <td>0</td>\n",
       "      <td>5817</td>\n",
       "      <td>102</td>\n",
       "      <td>0</td>\n",
       "      <td>1475737</td>\n",
       "    </tr>\n",
       "    <tr>\n",
       "      <th>4</th>\n",
       "      <td>3198</td>\n",
       "      <td>84148</td>\n",
       "      <td>180103</td>\n",
       "      <td>367.290009</td>\n",
       "      <td>5</td>\n",
       "      <td>60</td>\n",
       "      <td>0</td>\n",
       "      <td>5</td>\n",
       "      <td>0.0</td>\n",
       "      <td>0.0</td>\n",
       "      <td>0</td>\n",
       "      <td>5</td>\n",
       "      <td>0</td>\n",
       "      <td>0</td>\n",
       "      <td>1</td>\n",
       "      <td>51.0</td>\n",
       "      <td>251</td>\n",
       "      <td>68966</td>\n",
       "      <td>0</td>\n",
       "      <td>3982</td>\n",
       "      <td>38</td>\n",
       "      <td>0</td>\n",
       "      <td>641443</td>\n",
       "    </tr>\n",
       "  </tbody>\n",
       "</table>\n",
       "</div>"
      ],
      "text/plain": [
       "   acquirer   bank    card        money  trade_cat  coin  online  trade_type  \\\n",
       "0      6716  12765  101514   966.580017          4    62       0           2   \n",
       "1      5575  34837   60869  1071.099976          5    62       1           8   \n",
       "2      6769  22630  110573   438.209991          5    62       0           5   \n",
       "3      6767  91588  208961  1174.170044          5    62       0           5   \n",
       "4      3198  84148  180103   367.290009          5    60       0           5   \n",
       "\n",
       "   fallback  3ds  fraud_ind  pay_type  install  term  date  time  mcc   shop  \\\n",
       "0       0.0  0.0          0         5        1     2     1  29.0  247  34949   \n",
       "1       0.0  0.0          0         5        0     0     1  40.0  203  33794   \n",
       "2       0.0  0.0          0         5        0     0     1  45.0  251  79257   \n",
       "3       0.0  0.0          0         5        0     0     1  48.0  293  14765   \n",
       "4       0.0  0.0          0         5        0     0     1  51.0  251  68966   \n",
       "\n",
       "   excess  city  nation  status      key  \n",
       "0       0  5817     102       0  1119159  \n",
       "1       0  2138      44       0   641444  \n",
       "2       0  3588     102       0   188670  \n",
       "3       0  5817     102       0  1475737  \n",
       "4       0  3982      38       0   641443  "
      ]
     },
     "execution_count": 3,
     "metadata": {},
     "output_type": "execute_result"
    }
   ],
   "source": [
    "df_train.head()"
   ]
  },
  {
   "cell_type": "markdown",
   "metadata": {},
   "source": [
    "# Feature Engineering"
   ]
  },
  {
   "cell_type": "markdown",
   "metadata": {},
   "source": [
    "## 1"
   ]
  },
  {
   "cell_type": "code",
   "execution_count": 4,
   "metadata": {},
   "outputs": [],
   "source": [
    "#money / term groupby high_category: max, min, mean, std, var, median, median_diff, quantiles\n",
    "def money_term_inf(dataframe,c,b):\n",
    "    #b grouped by c\n",
    "    a = dataframe.copy()\n",
    "    a[b + '_' + c + '_max'] = a[c].map(a.loc[:, [b, c]].groupby(c).max().loc[:, b].to_dict())\n",
    "    a[b + '_' + c + '_min'] = a[c].map(a.loc[:, [b, c]].groupby(c).min().loc[:, b].to_dict())\n",
    "    a[b + '_' + c + '_mean'] = a[c].map(a.loc[:, [b, c]].groupby(c).mean().loc[:, b].to_dict())\n",
    "    a[b + '_' + c + '_std'] = a[c].map(a.loc[:, [b, c]].groupby(c).std().loc[:, b].to_dict())\n",
    "    a[b + '_' + c + '_var'] = a[b + '_' + c + '_std']**2\n",
    "    a[b + '_' + c + '_median'] = a[c].map(a.loc[:, [b, c]].groupby(c).median().loc[:, b].to_dict())\n",
    "    a[b + '_' + c + '_median_diff'] = a[b] - a[b + '_' + c + '_median']\n",
    "    return a"
   ]
  },
  {
   "cell_type": "markdown",
   "metadata": {},
   "source": [
    "## 2"
   ]
  },
  {
   "cell_type": "code",
   "execution_count": 5,
   "metadata": {},
   "outputs": [],
   "source": [
    "#card_num: one bank has how many cards. ( 一個帳號有幾張卡 )\n",
    "def card_num(dataframe):\n",
    "    a = dataframe.copy()\n",
    "    a['card_num'] = a['bank'].map(a.loc[:, ['card', 'bank']].groupby('bank').count().loc[:,'card'].to_dict())\n",
    "    return a"
   ]
  },
  {
   "cell_type": "markdown",
   "metadata": {},
   "source": [
    "## 4"
   ]
  },
  {
   "cell_type": "code",
   "execution_count": 11,
   "metadata": {},
   "outputs": [],
   "source": [
    "#dominant coin type 貨幣在那個國家交易過幾次\n",
    "def coin_trade_country_per(dataframe):\n",
    "    a = dataframe.copy()\n",
    "    dct =(a.groupby(['nation','coin']).size()/a.groupby('nation').size()).to_dict()\n",
    "    a['coin_country_per'] = a.set_index(['nation', 'coin']).index.map(dct.get)\n",
    "    return a"
   ]
  },
  {
   "cell_type": "markdown",
   "metadata": {},
   "source": [
    "## 9"
   ]
  },
  {
   "cell_type": "code",
   "execution_count": 7,
   "metadata": {},
   "outputs": [],
   "source": [
    "#money / term => term_money 分期金額\n",
    "def money_divide_term(dataframe):\n",
    "    a = dataframe.copy()\n",
    "    a['money_term'] = a['money']/(a['term']+1)\n",
    "    return a"
   ]
  },
  {
   "cell_type": "markdown",
   "metadata": {},
   "source": [
    "## 11"
   ]
  },
  {
   "cell_type": "code",
   "execution_count": 26,
   "metadata": {},
   "outputs": [],
   "source": [
    "#一個國家有幾個城市\n",
    "def count_city_num(dataframe):\n",
    "    a = dataframe.copy()\n",
    "    a['city_num'] = a['nation'].map(a.loc[:, ['city', 'nation']].groupby('nation').count().loc[:,'city'].to_dict())\n",
    "    return a"
   ]
  },
  {
   "cell_type": "markdown",
   "metadata": {},
   "source": [
    "## 12"
   ]
  },
  {
   "cell_type": "code",
   "execution_count": 43,
   "metadata": {},
   "outputs": [],
   "source": [
    "#nation/ acquirer/bank， fallback / online/ 3ds /install/excess 的交易數量比例\n",
    "def trade_per(dataframe,c,b):\n",
    "    #b grouped by c\n",
    "    a = dataframe.copy()\n",
    "    dct =(a.groupby([c,b]).size()/a.groupby(c).size()).to_dict()\n",
    "    a[b + '_' + c + '_tradeper']  = a.set_index([c, b]).index.map(dct.get)\n",
    "    return a"
   ]
  },
  {
   "cell_type": "markdown",
   "metadata": {},
   "source": [
    "## 15"
   ]
  },
  {
   "cell_type": "code",
   "execution_count": 36,
   "metadata": {},
   "outputs": [],
   "source": [
    "#week day (date 除以 7 餘數)\n",
    "def whatday(dataframe):\n",
    "    a = dataframe.copy()\n",
    "    a['week'] = a['date']%7\n",
    "    return a"
   ]
  },
  {
   "cell_type": "markdown",
   "metadata": {},
   "source": [
    "# 跑Function"
   ]
  },
  {
   "cell_type": "code",
   "execution_count": 8,
   "metadata": {},
   "outputs": [],
   "source": [
    "#跑money_term_inf\n",
    "high_category = ['acquirer', 'bank', 'card', 'coin', 'mcc', 'shop', 'city', 'nation']\n",
    "for i in (high_category):\n",
    "    df_train  =money_term_inf(df_train,i,'money')\n",
    "    df_train = money_term_inf(df_train,i,'term')"
   ]
  },
  {
   "cell_type": "code",
   "execution_count": 9,
   "metadata": {},
   "outputs": [],
   "source": [
    "#跑card_num\n",
    "df_train = card_num(df_train)"
   ]
  },
  {
   "cell_type": "code",
   "execution_count": 12,
   "metadata": {},
   "outputs": [],
   "source": [
    "#跑coin_trade_country_per\n",
    "df_train = coin_trade_country_per(df_train)"
   ]
  },
  {
   "cell_type": "code",
   "execution_count": 13,
   "metadata": {},
   "outputs": [],
   "source": [
    "#跑money_divide_term\n",
    "df_train = money_divide_term(df_train)"
   ]
  },
  {
   "cell_type": "code",
   "execution_count": 27,
   "metadata": {},
   "outputs": [],
   "source": [
    "#跑count_city_num\n",
    "df_train = count_city_num(df_train)"
   ]
  },
  {
   "cell_type": "code",
   "execution_count": 37,
   "metadata": {},
   "outputs": [],
   "source": [
    "#跑count_city_num\n",
    "df_train = whatday(df_train)"
   ]
  },
  {
   "cell_type": "code",
   "execution_count": 46,
   "metadata": {},
   "outputs": [],
   "source": [
    "#跑trade_per\n",
    "binary_category = ['fallback','online','3ds','install','excess']\n",
    "#可自定義\n",
    "group_category = ['nation','acquirer','bank']\n",
    "for i in group_category:\n",
    "    for j in binary_category:\n",
    "        df_train = trade_per(df_train,i,j)"
   ]
  },
  {
   "cell_type": "code",
   "execution_count": null,
   "metadata": {},
   "outputs": [],
   "source": []
  }
 ],
 "metadata": {
  "kernelspec": {
   "display_name": "Python 3",
   "language": "python",
   "name": "python3"
  },
  "language_info": {
   "codemirror_mode": {
    "name": "ipython",
    "version": 3
   },
   "file_extension": ".py",
   "mimetype": "text/x-python",
   "name": "python",
   "nbconvert_exporter": "python",
   "pygments_lexer": "ipython3",
   "version": "3.6.8"
  }
 },
 "nbformat": 4,
 "nbformat_minor": 2
}
